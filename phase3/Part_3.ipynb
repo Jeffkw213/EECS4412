{
 "cells": [
  {
   "cell_type": "code",
   "execution_count": 151,
   "metadata": {},
   "outputs": [],
   "source": [
    "import pandas as pd\n",
    "import numpy as np \n",
    "import matplotlib.pyplot as plt\n",
    "import seaborn as sns\n",
    "from matplotlib.pyplot import figure\n",
    "from scipy import stats\n",
    "from sklearn.model_selection import train_test_split \n",
    "from sklearn.metrics.pairwise import cosine_similarity\n",
    "from scipy import sparse\n",
    "import statistics\n",
    "import math\n",
    "import csv\n"
   ]
  },
  {
   "cell_type": "code",
   "execution_count": 152,
   "metadata": {},
   "outputs": [],
   "source": [
    "# # Task 1: Association Analysis\n",
    "# Select a table (Primary) to perform the Association Analysis\n",
    "WS = pd.read_csv(\"Primary.csv\")\n",
    "WS = WS.rename(columns={'Residence':'Rural', \n",
    "                        'Unnamed: 7':'Urban',\n",
    "                        'Wealth quintile':'Poorest', \n",
    "                        'Unnamed: 9': \"Richest\",\n",
    "                        'Unnamed: 11':'Times period'})\n",
    "WS = WS.dropna(subset=[\"Region\", \"Rural\", \"Urban\", \"Poorest\", \"Richest\"]) # removing the columns that has an NAN\n",
    "WS = WS.drop(WS[(WS['Times period'] > \"2022\")].index) # removing any unrealiable datas that has year > 2022\n",
    "WS.reset_index(drop=True, inplace=True)\n",
    "WS = WS.head(50) # getting the first 50 values"
   ]
  },
  {
   "cell_type": "code",
   "execution_count": 153,
   "metadata": {},
   "outputs": [],
   "source": [
    "# Remove the % sign\n",
    "WS['Total'] = list(map(lambda x: x[:-1], WS['Total'].values))\n",
    "WS['Rural'] = list(map(lambda x: x[:-1], WS['Rural'].values))\n",
    "WS['Urban'] = list(map(lambda x: x[:-1], WS['Urban'].values))\n",
    "WS['Poorest'] = list(map(lambda x: x[:-1], WS['Poorest'].values))\n",
    "WS['Richest'] = list(map(lambda x: x[:-1], WS['Richest'].values))"
   ]
  },
  {
   "cell_type": "code",
   "execution_count": 154,
   "metadata": {},
   "outputs": [],
   "source": [
    "# Change the data to integers instead of strings\n",
    "WS['Total'] = [int(x) for x in WS['Total'].values]\n",
    "WS['Rural'] = [int(x) for x in WS['Rural'].values]\n",
    "WS['Urban'] = [int(x) for x in WS['Urban'].values]\n",
    "WS['Poorest'] = [int(x) for x in WS['Poorest'].values]\n",
    "WS['Richest'] = [int(x) for x in WS['Total'].values]\n",
    "# print(WS)\n"
   ]
  },
  {
   "cell_type": "code",
   "execution_count": 155,
   "metadata": {},
   "outputs": [],
   "source": [
    "# Change continuous value \"Times period\" to discrete. \n",
    "# To do this we thake the first 4 values of the year, so instead of 2015-16\n",
    "# We have 2015.\n",
    "WS['Times period'] = list(map(lambda x: x[:4], WS['Times period'].values)) # only take the first 4 values of the value\n",
    "WS['Times period'] = [int(x) for x in WS['Times period'].values]\n",
    "WS_copy = WS.copy(deep=True)"
   ]
  },
  {
   "cell_type": "code",
   "execution_count": 156,
   "metadata": {},
   "outputs": [
    {
     "data": {
      "text/html": [
       "<div>\n",
       "<style scoped>\n",
       "    .dataframe tbody tr th:only-of-type {\n",
       "        vertical-align: middle;\n",
       "    }\n",
       "\n",
       "    .dataframe tbody tr th {\n",
       "        vertical-align: top;\n",
       "    }\n",
       "\n",
       "    .dataframe thead th {\n",
       "        text-align: right;\n",
       "    }\n",
       "</style>\n",
       "<table border=\"1\" class=\"dataframe\">\n",
       "  <thead>\n",
       "    <tr style=\"text-align: right;\">\n",
       "      <th></th>\n",
       "      <th>Region</th>\n",
       "      <th>Income Group</th>\n",
       "      <th>Total</th>\n",
       "      <th>Rural</th>\n",
       "      <th>Urban</th>\n",
       "      <th>Poorest</th>\n",
       "      <th>Richest</th>\n",
       "      <th>Times period</th>\n",
       "    </tr>\n",
       "  </thead>\n",
       "  <tbody>\n",
       "    <tr>\n",
       "      <th>0</th>\n",
       "      <td>SSA</td>\n",
       "      <td>Lower middle income (LM)</td>\n",
       "      <td>15</td>\n",
       "      <td>2</td>\n",
       "      <td>22</td>\n",
       "      <td>0</td>\n",
       "      <td>15</td>\n",
       "      <td>2015</td>\n",
       "    </tr>\n",
       "    <tr>\n",
       "      <th>1</th>\n",
       "      <td>ECA</td>\n",
       "      <td>Upper middle income (UM)</td>\n",
       "      <td>81</td>\n",
       "      <td>69</td>\n",
       "      <td>89</td>\n",
       "      <td>46</td>\n",
       "      <td>81</td>\n",
       "      <td>2015</td>\n",
       "    </tr>\n",
       "    <tr>\n",
       "      <th>2</th>\n",
       "      <td>SA</td>\n",
       "      <td>Lower middle income (LM)</td>\n",
       "      <td>34</td>\n",
       "      <td>30</td>\n",
       "      <td>49</td>\n",
       "      <td>7</td>\n",
       "      <td>34</td>\n",
       "      <td>2019</td>\n",
       "    </tr>\n",
       "    <tr>\n",
       "      <th>3</th>\n",
       "      <td>LAC</td>\n",
       "      <td>High income (H)</td>\n",
       "      <td>63</td>\n",
       "      <td>54</td>\n",
       "      <td>68</td>\n",
       "      <td>9</td>\n",
       "      <td>63</td>\n",
       "      <td>2012</td>\n",
       "    </tr>\n",
       "    <tr>\n",
       "      <th>4</th>\n",
       "      <td>SSA</td>\n",
       "      <td>Low income (L)</td>\n",
       "      <td>3</td>\n",
       "      <td>1</td>\n",
       "      <td>6</td>\n",
       "      <td>0</td>\n",
       "      <td>3</td>\n",
       "      <td>2017</td>\n",
       "    </tr>\n",
       "  </tbody>\n",
       "</table>\n",
       "</div>"
      ],
      "text/plain": [
       "  Region              Income Group  Total  Rural  Urban  Poorest  Richest  \\\n",
       "0    SSA  Lower middle income (LM)     15      2     22        0       15   \n",
       "1    ECA  Upper middle income (UM)     81     69     89       46       81   \n",
       "2     SA  Lower middle income (LM)     34     30     49        7       34   \n",
       "3    LAC           High income (H)     63     54     68        9       63   \n",
       "4    SSA            Low income (L)      3      1      6        0        3   \n",
       "\n",
       "   Times period  \n",
       "0          2015  \n",
       "1          2015  \n",
       "2          2019  \n",
       "3          2012  \n",
       "4          2017  "
      ]
     },
     "execution_count": 156,
     "metadata": {},
     "output_type": "execute_result"
    }
   ],
   "source": [
    "# We do not need to discretizate ISO3 and Countries and Areas since they are all unique.\n",
    "# Drop Source since it brings no does not bring any significants to the data for the \n",
    "# percentage of students with internet in an region\n",
    "# We also Drop 'Sub-region' since there is already 'Region'\n",
    "WS_copy = WS_copy.drop(columns=['ISO3','Countries and areas', 'Source', 'Sub-region'])\n",
    "WS_copy.to_csv('./216396764-216426744-T1Old.csv') # Save data to csv\n",
    "WS_copy.head()\n",
    "# Use TransactionEncoder() to "
   ]
  },
  {
   "cell_type": "code",
   "execution_count": 157,
   "metadata": {},
   "outputs": [],
   "source": [
    "from mlxtend.preprocessing import TransactionEncoder\n"
   ]
  },
  {
   "cell_type": "code",
   "execution_count": 158,
   "metadata": {},
   "outputs": [
    {
     "data": {
      "text/plain": [
       "0     (-0.095, 31.667]\n",
       "1       (63.333, 95.0]\n",
       "2     (31.667, 63.333]\n",
       "3     (31.667, 63.333]\n",
       "4     (-0.095, 31.667]\n",
       "5     (31.667, 63.333]\n",
       "6       (63.333, 95.0]\n",
       "7       (63.333, 95.0]\n",
       "8     (-0.095, 31.667]\n",
       "9     (-0.095, 31.667]\n",
       "10    (-0.095, 31.667]\n",
       "11    (-0.095, 31.667]\n",
       "12      (63.333, 95.0]\n",
       "13    (31.667, 63.333]\n",
       "14      (63.333, 95.0]\n",
       "15    (-0.095, 31.667]\n",
       "16    (-0.095, 31.667]\n",
       "17    (-0.095, 31.667]\n",
       "18    (-0.095, 31.667]\n",
       "19    (-0.095, 31.667]\n",
       "20      (63.333, 95.0]\n",
       "21      (63.333, 95.0]\n",
       "22    (-0.095, 31.667]\n",
       "23    (-0.095, 31.667]\n",
       "24    (-0.095, 31.667]\n",
       "25    (-0.095, 31.667]\n",
       "26    (-0.095, 31.667]\n",
       "27    (-0.095, 31.667]\n",
       "28    (31.667, 63.333]\n",
       "29      (63.333, 95.0]\n",
       "30    (31.667, 63.333]\n",
       "31    (31.667, 63.333]\n",
       "32      (63.333, 95.0]\n",
       "33    (-0.095, 31.667]\n",
       "34    (-0.095, 31.667]\n",
       "35    (-0.095, 31.667]\n",
       "36      (63.333, 95.0]\n",
       "37    (-0.095, 31.667]\n",
       "38    (-0.095, 31.667]\n",
       "39    (31.667, 63.333]\n",
       "40      (63.333, 95.0]\n",
       "41    (-0.095, 31.667]\n",
       "42    (-0.095, 31.667]\n",
       "43    (-0.095, 31.667]\n",
       "44    (31.667, 63.333]\n",
       "45    (-0.095, 31.667]\n",
       "46      (63.333, 95.0]\n",
       "47    (-0.095, 31.667]\n",
       "48    (-0.095, 31.667]\n",
       "49      (63.333, 95.0]\n",
       "Name: Total, dtype: category\n",
       "Categories (3, interval[float64, right]): [(-0.095, 31.667] < (31.667, 63.333] < (63.333, 95.0]]"
      ]
     },
     "execution_count": 158,
     "metadata": {},
     "output_type": "execute_result"
    }
   ],
   "source": [
    "pd.cut(WS['Total'],3)"
   ]
  },
  {
   "cell_type": "code",
   "execution_count": 159,
   "metadata": {},
   "outputs": [
    {
     "data": {
      "text/plain": [
       "0     (-0.094, 31.333]\n",
       "1       (62.667, 94.0]\n",
       "2     (-0.094, 31.333]\n",
       "3     (31.333, 62.667]\n",
       "4     (-0.094, 31.333]\n",
       "5     (31.333, 62.667]\n",
       "6     (31.333, 62.667]\n",
       "7       (62.667, 94.0]\n",
       "8     (-0.094, 31.333]\n",
       "9     (-0.094, 31.333]\n",
       "10    (-0.094, 31.333]\n",
       "11    (-0.094, 31.333]\n",
       "12      (62.667, 94.0]\n",
       "13    (-0.094, 31.333]\n",
       "14    (31.333, 62.667]\n",
       "15    (-0.094, 31.333]\n",
       "16    (-0.094, 31.333]\n",
       "17    (-0.094, 31.333]\n",
       "18    (-0.094, 31.333]\n",
       "19    (-0.094, 31.333]\n",
       "20    (31.333, 62.667]\n",
       "21      (62.667, 94.0]\n",
       "22    (-0.094, 31.333]\n",
       "23    (-0.094, 31.333]\n",
       "24    (-0.094, 31.333]\n",
       "25    (-0.094, 31.333]\n",
       "26    (-0.094, 31.333]\n",
       "27    (-0.094, 31.333]\n",
       "28    (31.333, 62.667]\n",
       "29      (62.667, 94.0]\n",
       "30    (31.333, 62.667]\n",
       "31    (31.333, 62.667]\n",
       "32      (62.667, 94.0]\n",
       "33    (-0.094, 31.333]\n",
       "34    (-0.094, 31.333]\n",
       "35    (-0.094, 31.333]\n",
       "36      (62.667, 94.0]\n",
       "37    (-0.094, 31.333]\n",
       "38    (-0.094, 31.333]\n",
       "39    (-0.094, 31.333]\n",
       "40      (62.667, 94.0]\n",
       "41    (-0.094, 31.333]\n",
       "42    (-0.094, 31.333]\n",
       "43    (-0.094, 31.333]\n",
       "44    (31.333, 62.667]\n",
       "45    (-0.094, 31.333]\n",
       "46      (62.667, 94.0]\n",
       "47    (-0.094, 31.333]\n",
       "48    (-0.094, 31.333]\n",
       "49      (62.667, 94.0]\n",
       "Name: Rural, dtype: category\n",
       "Categories (3, interval[float64, right]): [(-0.094, 31.333] < (31.333, 62.667] < (62.667, 94.0]]"
      ]
     },
     "execution_count": 159,
     "metadata": {},
     "output_type": "execute_result"
    }
   ],
   "source": [
    "pd.cut(WS['Rural'],3)"
   ]
  },
  {
   "cell_type": "code",
   "execution_count": 160,
   "metadata": {},
   "outputs": [
    {
     "data": {
      "text/plain": [
       "0      (0.905, 32.667]\n",
       "1       (64.333, 96.0]\n",
       "2     (32.667, 64.333]\n",
       "3       (64.333, 96.0]\n",
       "4      (0.905, 32.667]\n",
       "5       (64.333, 96.0]\n",
       "6       (64.333, 96.0]\n",
       "7       (64.333, 96.0]\n",
       "8      (0.905, 32.667]\n",
       "9      (0.905, 32.667]\n",
       "10     (0.905, 32.667]\n",
       "11     (0.905, 32.667]\n",
       "12      (64.333, 96.0]\n",
       "13    (32.667, 64.333]\n",
       "14      (64.333, 96.0]\n",
       "15     (0.905, 32.667]\n",
       "16     (0.905, 32.667]\n",
       "17     (0.905, 32.667]\n",
       "18     (0.905, 32.667]\n",
       "19     (0.905, 32.667]\n",
       "20      (64.333, 96.0]\n",
       "21      (64.333, 96.0]\n",
       "22     (0.905, 32.667]\n",
       "23     (0.905, 32.667]\n",
       "24     (0.905, 32.667]\n",
       "25    (32.667, 64.333]\n",
       "26     (0.905, 32.667]\n",
       "27     (0.905, 32.667]\n",
       "28    (32.667, 64.333]\n",
       "29      (64.333, 96.0]\n",
       "30    (32.667, 64.333]\n",
       "31      (64.333, 96.0]\n",
       "32      (64.333, 96.0]\n",
       "33     (0.905, 32.667]\n",
       "34    (32.667, 64.333]\n",
       "35     (0.905, 32.667]\n",
       "36      (64.333, 96.0]\n",
       "37     (0.905, 32.667]\n",
       "38     (0.905, 32.667]\n",
       "39    (32.667, 64.333]\n",
       "40      (64.333, 96.0]\n",
       "41     (0.905, 32.667]\n",
       "42     (0.905, 32.667]\n",
       "43    (32.667, 64.333]\n",
       "44    (32.667, 64.333]\n",
       "45     (0.905, 32.667]\n",
       "46      (64.333, 96.0]\n",
       "47     (0.905, 32.667]\n",
       "48     (0.905, 32.667]\n",
       "49      (64.333, 96.0]\n",
       "Name: Urban, dtype: category\n",
       "Categories (3, interval[float64, right]): [(0.905, 32.667] < (32.667, 64.333] < (64.333, 96.0]]"
      ]
     },
     "execution_count": 160,
     "metadata": {},
     "output_type": "execute_result"
    }
   ],
   "source": [
    "pd.cut(WS['Urban'],3)"
   ]
  },
  {
   "cell_type": "code",
   "execution_count": 161,
   "metadata": {},
   "outputs": [
    {
     "data": {
      "text/plain": [
       "0     (-0.086, 28.667]\n",
       "1     (28.667, 57.333]\n",
       "2     (-0.086, 28.667]\n",
       "3     (-0.086, 28.667]\n",
       "4     (-0.086, 28.667]\n",
       "5     (-0.086, 28.667]\n",
       "6       (57.333, 86.0]\n",
       "7     (-0.086, 28.667]\n",
       "8     (-0.086, 28.667]\n",
       "9     (-0.086, 28.667]\n",
       "10    (-0.086, 28.667]\n",
       "11    (-0.086, 28.667]\n",
       "12      (57.333, 86.0]\n",
       "13    (-0.086, 28.667]\n",
       "14    (28.667, 57.333]\n",
       "15    (-0.086, 28.667]\n",
       "16    (-0.086, 28.667]\n",
       "17    (-0.086, 28.667]\n",
       "18    (-0.086, 28.667]\n",
       "19    (-0.086, 28.667]\n",
       "20    (-0.086, 28.667]\n",
       "21    (28.667, 57.333]\n",
       "22    (-0.086, 28.667]\n",
       "23    (-0.086, 28.667]\n",
       "24    (-0.086, 28.667]\n",
       "25    (-0.086, 28.667]\n",
       "26    (-0.086, 28.667]\n",
       "27    (-0.086, 28.667]\n",
       "28    (-0.086, 28.667]\n",
       "29      (57.333, 86.0]\n",
       "30    (-0.086, 28.667]\n",
       "31    (-0.086, 28.667]\n",
       "32    (28.667, 57.333]\n",
       "33    (-0.086, 28.667]\n",
       "34    (-0.086, 28.667]\n",
       "35    (-0.086, 28.667]\n",
       "36    (28.667, 57.333]\n",
       "37    (-0.086, 28.667]\n",
       "38    (-0.086, 28.667]\n",
       "39    (-0.086, 28.667]\n",
       "40    (28.667, 57.333]\n",
       "41    (-0.086, 28.667]\n",
       "42    (-0.086, 28.667]\n",
       "43    (-0.086, 28.667]\n",
       "44    (-0.086, 28.667]\n",
       "45    (-0.086, 28.667]\n",
       "46      (57.333, 86.0]\n",
       "47    (-0.086, 28.667]\n",
       "48    (-0.086, 28.667]\n",
       "49      (57.333, 86.0]\n",
       "Name: Poorest, dtype: category\n",
       "Categories (3, interval[float64, right]): [(-0.086, 28.667] < (28.667, 57.333] < (57.333, 86.0]]"
      ]
     },
     "execution_count": 161,
     "metadata": {},
     "output_type": "execute_result"
    }
   ],
   "source": [
    "pd.cut(WS['Poorest'],3)"
   ]
  },
  {
   "cell_type": "code",
   "execution_count": 162,
   "metadata": {},
   "outputs": [
    {
     "data": {
      "text/plain": [
       "0     (2009.999, 2015.0]\n",
       "1     (2009.999, 2015.0]\n",
       "2       (2018.0, 2019.0]\n",
       "3     (2009.999, 2015.0]\n",
       "4       (2015.0, 2018.0]\n",
       "5     (2009.999, 2015.0]\n",
       "6       (2015.0, 2018.0]\n",
       "7     (2009.999, 2015.0]\n",
       "8     (2009.999, 2015.0]\n",
       "9     (2009.999, 2015.0]\n",
       "10      (2015.0, 2018.0]\n",
       "11      (2018.0, 2019.0]\n",
       "12      (2015.0, 2018.0]\n",
       "13    (2009.999, 2015.0]\n",
       "14      (2015.0, 2018.0]\n",
       "15      (2015.0, 2018.0]\n",
       "16      (2018.0, 2019.0]\n",
       "17      (2015.0, 2018.0]\n",
       "18    (2009.999, 2015.0]\n",
       "19    (2009.999, 2015.0]\n",
       "20      (2015.0, 2018.0]\n",
       "21      (2015.0, 2018.0]\n",
       "22      (2015.0, 2018.0]\n",
       "23    (2009.999, 2015.0]\n",
       "24      (2015.0, 2018.0]\n",
       "25      (2015.0, 2018.0]\n",
       "26    (2009.999, 2015.0]\n",
       "27      (2018.0, 2019.0]\n",
       "28      (2015.0, 2018.0]\n",
       "29      (2015.0, 2018.0]\n",
       "30      (2015.0, 2018.0]\n",
       "31      (2015.0, 2018.0]\n",
       "32      (2015.0, 2018.0]\n",
       "33      (2015.0, 2018.0]\n",
       "34      (2015.0, 2018.0]\n",
       "35      (2015.0, 2018.0]\n",
       "36      (2015.0, 2018.0]\n",
       "37    (2009.999, 2015.0]\n",
       "38    (2009.999, 2015.0]\n",
       "39      (2015.0, 2018.0]\n",
       "40      (2015.0, 2018.0]\n",
       "41    (2009.999, 2015.0]\n",
       "42      (2015.0, 2018.0]\n",
       "43    (2009.999, 2015.0]\n",
       "44      (2018.0, 2019.0]\n",
       "45      (2015.0, 2018.0]\n",
       "46      (2018.0, 2019.0]\n",
       "47      (2015.0, 2018.0]\n",
       "48    (2009.999, 2015.0]\n",
       "49    (2009.999, 2015.0]\n",
       "Name: Times period, dtype: category\n",
       "Categories (3, interval[float64, right]): [(2009.999, 2015.0] < (2015.0, 2018.0] < (2018.0, 2019.0]]"
      ]
     },
     "execution_count": 162,
     "metadata": {},
     "output_type": "execute_result"
    }
   ],
   "source": [
    "pd.qcut(WS['Times period'], 3)"
   ]
  },
  {
   "cell_type": "code",
   "execution_count": 163,
   "metadata": {},
   "outputs": [],
   "source": [
    "WS_copy['Total'] = pd.cut(WS['Total'],3,labels=[\"Total(%): (-0.095, 31.667]\", \"Total(%): (31.667, 63.333]\", \"Total(%): (63.333, 95.0]\"])\n",
    "WS_copy['Rural'] = pd.cut(WS['Rural'],3,labels=[\"Rural(%): (-0.094, 31.333]\", \"Rural(%): (31.333, 62.667]\", \"Rural(%): (62.667, 94.0]\"])\n",
    "WS_copy['Urban'] = pd.cut(WS['Urban'],3,labels=[\"Urban(%): (0.905, 32.667]\", \"Urban(%): (32.667, 64.333]\", \"Urban(%): (64.333, 96.0]\"])\n",
    "WS_copy['Poorest'] = pd.cut(WS['Poorest'],3,labels=[\"Poorest(%): (-0.086, 28.667]\", \"Poorest(%): (28.667, 57.333]\", \"Poorest(%): (57.333, 86.0]\"])\n",
    "WS_copy['Richest'] = pd.cut(WS['Richest'],3,labels=[\"Richest(%): (-0.095, 31.667]\", \"Richest(%): (31.667, 63.333]\", \"Richest(%):(63.333, 95.0]\"])\n",
    "WS_copy['Times period'] = pd.qcut(WS['Times period'], 3, labels=[\"Times period: (2010, 2015]\", \"Times period: (2015, 2018]\",\"Times period: (2018, 2019]\"])\n"
   ]
  },
  {
   "cell_type": "code",
   "execution_count": 164,
   "metadata": {},
   "outputs": [],
   "source": [
    "WS_array = np.array(WS_copy)\n",
    "# WS_array\n",
    "te = TransactionEncoder()\n",
    "te_ary = te.fit(WS_array).transform(WS_array)\n",
    "T1Disc = pd.DataFrame(te_ary.astype(\"int\"), columns=te.columns_)\n",
    "T1Disc.shape\n",
    "T1Disc.to_csv('./216396764-216426744-T1Disc.csv') # Save data to csv\n"
   ]
  },
  {
   "cell_type": "code",
   "execution_count": 165,
   "metadata": {},
   "outputs": [],
   "source": [
    "# Find the 10 most frequent item sets. \n",
    "# The length/size of these item sets must be at least 2.\n",
    "# Use the apriori library from https://github.com/ymoch/apyori/blob/master/apyori.py\n",
    "from mlxtend.frequent_patterns import apriori, fpmax, fpgrowth\n",
    "from mlxtend.frequent_patterns import association_rules\n"
   ]
  },
  {
   "cell_type": "code",
   "execution_count": 166,
   "metadata": {},
   "outputs": [
    {
     "name": "stderr",
     "output_type": "stream",
     "text": [
      "/opt/anaconda3/envs/projectVenv/lib/python3.8/site-packages/mlxtend/frequent_patterns/fpcommon.py:111: DeprecationWarning: DataFrames with non-bool types result in worse computationalperformance and their support might be discontinued in the future.Please use a DataFrame with bool type\n",
      "  warnings.warn(\n"
     ]
    },
    {
     "data": {
      "text/html": [
       "<div>\n",
       "<style scoped>\n",
       "    .dataframe tbody tr th:only-of-type {\n",
       "        vertical-align: middle;\n",
       "    }\n",
       "\n",
       "    .dataframe tbody tr th {\n",
       "        vertical-align: top;\n",
       "    }\n",
       "\n",
       "    .dataframe thead th {\n",
       "        text-align: right;\n",
       "    }\n",
       "</style>\n",
       "<table border=\"1\" class=\"dataframe\">\n",
       "  <thead>\n",
       "    <tr style=\"text-align: right;\">\n",
       "      <th></th>\n",
       "      <th>support</th>\n",
       "      <th>itemsets</th>\n",
       "    </tr>\n",
       "  </thead>\n",
       "  <tbody>\n",
       "    <tr>\n",
       "      <th>0</th>\n",
       "      <td>0.78</td>\n",
       "      <td>(Poorest(%): (-0.086, 28.667])</td>\n",
       "    </tr>\n",
       "    <tr>\n",
       "      <th>1</th>\n",
       "      <td>0.56</td>\n",
       "      <td>(Richest(%): (-0.095, 31.667])</td>\n",
       "    </tr>\n",
       "    <tr>\n",
       "      <th>2</th>\n",
       "      <td>0.62</td>\n",
       "      <td>(Rural(%): (-0.094, 31.333])</td>\n",
       "    </tr>\n",
       "    <tr>\n",
       "      <th>3</th>\n",
       "      <td>0.56</td>\n",
       "      <td>(Total(%): (-0.095, 31.667])</td>\n",
       "    </tr>\n",
       "    <tr>\n",
       "      <th>4</th>\n",
       "      <td>0.56</td>\n",
       "      <td>(Richest(%): (-0.095, 31.667], Poorest(%): (-0...</td>\n",
       "    </tr>\n",
       "    <tr>\n",
       "      <th>5</th>\n",
       "      <td>0.62</td>\n",
       "      <td>(Rural(%): (-0.094, 31.333], Poorest(%): (-0.0...</td>\n",
       "    </tr>\n",
       "    <tr>\n",
       "      <th>6</th>\n",
       "      <td>0.56</td>\n",
       "      <td>(Total(%): (-0.095, 31.667], Poorest(%): (-0.0...</td>\n",
       "    </tr>\n",
       "    <tr>\n",
       "      <th>7</th>\n",
       "      <td>0.56</td>\n",
       "      <td>(Richest(%): (-0.095, 31.667], Rural(%): (-0.0...</td>\n",
       "    </tr>\n",
       "    <tr>\n",
       "      <th>8</th>\n",
       "      <td>0.56</td>\n",
       "      <td>(Richest(%): (-0.095, 31.667], Total(%): (-0.0...</td>\n",
       "    </tr>\n",
       "    <tr>\n",
       "      <th>9</th>\n",
       "      <td>0.56</td>\n",
       "      <td>(Total(%): (-0.095, 31.667], Rural(%): (-0.094...</td>\n",
       "    </tr>\n",
       "    <tr>\n",
       "      <th>10</th>\n",
       "      <td>0.56</td>\n",
       "      <td>(Richest(%): (-0.095, 31.667], Rural(%): (-0.0...</td>\n",
       "    </tr>\n",
       "    <tr>\n",
       "      <th>11</th>\n",
       "      <td>0.56</td>\n",
       "      <td>(Richest(%): (-0.095, 31.667], Total(%): (-0.0...</td>\n",
       "    </tr>\n",
       "    <tr>\n",
       "      <th>12</th>\n",
       "      <td>0.56</td>\n",
       "      <td>(Total(%): (-0.095, 31.667], Rural(%): (-0.094...</td>\n",
       "    </tr>\n",
       "    <tr>\n",
       "      <th>13</th>\n",
       "      <td>0.56</td>\n",
       "      <td>(Richest(%): (-0.095, 31.667], Total(%): (-0.0...</td>\n",
       "    </tr>\n",
       "    <tr>\n",
       "      <th>14</th>\n",
       "      <td>0.56</td>\n",
       "      <td>(Richest(%): (-0.095, 31.667], Total(%): (-0.0...</td>\n",
       "    </tr>\n",
       "  </tbody>\n",
       "</table>\n",
       "</div>"
      ],
      "text/plain": [
       "    support                                           itemsets\n",
       "0      0.78                     (Poorest(%): (-0.086, 28.667])\n",
       "1      0.56                     (Richest(%): (-0.095, 31.667])\n",
       "2      0.62                       (Rural(%): (-0.094, 31.333])\n",
       "3      0.56                       (Total(%): (-0.095, 31.667])\n",
       "4      0.56  (Richest(%): (-0.095, 31.667], Poorest(%): (-0...\n",
       "5      0.62  (Rural(%): (-0.094, 31.333], Poorest(%): (-0.0...\n",
       "6      0.56  (Total(%): (-0.095, 31.667], Poorest(%): (-0.0...\n",
       "7      0.56  (Richest(%): (-0.095, 31.667], Rural(%): (-0.0...\n",
       "8      0.56  (Richest(%): (-0.095, 31.667], Total(%): (-0.0...\n",
       "9      0.56  (Total(%): (-0.095, 31.667], Rural(%): (-0.094...\n",
       "10     0.56  (Richest(%): (-0.095, 31.667], Rural(%): (-0.0...\n",
       "11     0.56  (Richest(%): (-0.095, 31.667], Total(%): (-0.0...\n",
       "12     0.56  (Total(%): (-0.095, 31.667], Rural(%): (-0.094...\n",
       "13     0.56  (Richest(%): (-0.095, 31.667], Total(%): (-0.0...\n",
       "14     0.56  (Richest(%): (-0.095, 31.667], Total(%): (-0.0..."
      ]
     },
     "execution_count": 166,
     "metadata": {},
     "output_type": "execute_result"
    }
   ],
   "source": [
    "frequent_itemsets = apriori(T1Disc, min_support=0.55, use_colnames=True)\n",
    "frequent_itemsets"
   ]
  },
  {
   "cell_type": "code",
   "execution_count": 167,
   "metadata": {},
   "outputs": [],
   "source": [
    "# We then choose 10 frequent item-set that has atleast 2 item-sets\n",
    "X = frequent_itemsets[frequent_itemsets['itemsets'].map(len) > 1]\n",
    "X = X.head(10)\n",
    "X.reset_index(drop=True, inplace=True)\n",
    "X.to_csv(\"./frequent_items.csv\")"
   ]
  },
  {
   "cell_type": "code",
   "execution_count": 168,
   "metadata": {},
   "outputs": [
    {
     "data": {
      "text/html": [
       "<div>\n",
       "<style scoped>\n",
       "    .dataframe tbody tr th:only-of-type {\n",
       "        vertical-align: middle;\n",
       "    }\n",
       "\n",
       "    .dataframe tbody tr th {\n",
       "        vertical-align: top;\n",
       "    }\n",
       "\n",
       "    .dataframe thead th {\n",
       "        text-align: right;\n",
       "    }\n",
       "</style>\n",
       "<table border=\"1\" class=\"dataframe\">\n",
       "  <thead>\n",
       "    <tr style=\"text-align: right;\">\n",
       "      <th></th>\n",
       "      <th>antecedents</th>\n",
       "      <th>consequents</th>\n",
       "      <th>antecedent support</th>\n",
       "      <th>consequent support</th>\n",
       "      <th>support</th>\n",
       "      <th>confidence</th>\n",
       "      <th>lift</th>\n",
       "      <th>leverage</th>\n",
       "      <th>conviction</th>\n",
       "    </tr>\n",
       "  </thead>\n",
       "  <tbody>\n",
       "    <tr>\n",
       "      <th>0</th>\n",
       "      <td>(Richest(%): (-0.095, 31.667])</td>\n",
       "      <td>(Poorest(%): (-0.086, 28.667])</td>\n",
       "      <td>0.56</td>\n",
       "      <td>0.78</td>\n",
       "      <td>0.56</td>\n",
       "      <td>1.000000</td>\n",
       "      <td>1.282051</td>\n",
       "      <td>0.1232</td>\n",
       "      <td>inf</td>\n",
       "    </tr>\n",
       "    <tr>\n",
       "      <th>1</th>\n",
       "      <td>(Rural(%): (-0.094, 31.333])</td>\n",
       "      <td>(Poorest(%): (-0.086, 28.667])</td>\n",
       "      <td>0.62</td>\n",
       "      <td>0.78</td>\n",
       "      <td>0.62</td>\n",
       "      <td>1.000000</td>\n",
       "      <td>1.282051</td>\n",
       "      <td>0.1364</td>\n",
       "      <td>inf</td>\n",
       "    </tr>\n",
       "    <tr>\n",
       "      <th>2</th>\n",
       "      <td>(Total(%): (-0.095, 31.667])</td>\n",
       "      <td>(Poorest(%): (-0.086, 28.667])</td>\n",
       "      <td>0.56</td>\n",
       "      <td>0.78</td>\n",
       "      <td>0.56</td>\n",
       "      <td>1.000000</td>\n",
       "      <td>1.282051</td>\n",
       "      <td>0.1232</td>\n",
       "      <td>inf</td>\n",
       "    </tr>\n",
       "    <tr>\n",
       "      <th>3</th>\n",
       "      <td>(Richest(%): (-0.095, 31.667])</td>\n",
       "      <td>(Rural(%): (-0.094, 31.333])</td>\n",
       "      <td>0.56</td>\n",
       "      <td>0.62</td>\n",
       "      <td>0.56</td>\n",
       "      <td>1.000000</td>\n",
       "      <td>1.612903</td>\n",
       "      <td>0.2128</td>\n",
       "      <td>inf</td>\n",
       "    </tr>\n",
       "    <tr>\n",
       "      <th>4</th>\n",
       "      <td>(Rural(%): (-0.094, 31.333])</td>\n",
       "      <td>(Richest(%): (-0.095, 31.667])</td>\n",
       "      <td>0.62</td>\n",
       "      <td>0.56</td>\n",
       "      <td>0.56</td>\n",
       "      <td>0.903226</td>\n",
       "      <td>1.612903</td>\n",
       "      <td>0.2128</td>\n",
       "      <td>4.546667</td>\n",
       "    </tr>\n",
       "  </tbody>\n",
       "</table>\n",
       "</div>"
      ],
      "text/plain": [
       "                      antecedents                     consequents  \\\n",
       "0  (Richest(%): (-0.095, 31.667])  (Poorest(%): (-0.086, 28.667])   \n",
       "1    (Rural(%): (-0.094, 31.333])  (Poorest(%): (-0.086, 28.667])   \n",
       "2    (Total(%): (-0.095, 31.667])  (Poorest(%): (-0.086, 28.667])   \n",
       "3  (Richest(%): (-0.095, 31.667])    (Rural(%): (-0.094, 31.333])   \n",
       "4    (Rural(%): (-0.094, 31.333])  (Richest(%): (-0.095, 31.667])   \n",
       "\n",
       "   antecedent support  consequent support  support  confidence      lift  \\\n",
       "0                0.56                0.78     0.56    1.000000  1.282051   \n",
       "1                0.62                0.78     0.62    1.000000  1.282051   \n",
       "2                0.56                0.78     0.56    1.000000  1.282051   \n",
       "3                0.56                0.62     0.56    1.000000  1.612903   \n",
       "4                0.62                0.56     0.56    0.903226  1.612903   \n",
       "\n",
       "   leverage  conviction  \n",
       "0    0.1232         inf  \n",
       "1    0.1364         inf  \n",
       "2    0.1232         inf  \n",
       "3    0.2128         inf  \n",
       "4    0.2128    4.546667  "
      ]
     },
     "execution_count": 168,
     "metadata": {},
     "output_type": "execute_result"
    }
   ],
   "source": [
    "from mlxtend.frequent_patterns import association_rules\n",
    "\n",
    "rules = association_rules(frequent_itemsets, metric=\"confidence\")\n",
    "rules.to_csv(\"./rules.csv\")\n",
    "rules.head()"
   ]
  },
  {
   "cell_type": "code",
   "execution_count": 169,
   "metadata": {},
   "outputs": [
    {
     "data": {
      "text/plain": [
       "0     0.56\n",
       "1     0.62\n",
       "2     0.56\n",
       "3     0.56\n",
       "4     0.56\n",
       "5     0.56\n",
       "6     0.56\n",
       "7     0.56\n",
       "8     0.56\n",
       "9     0.56\n",
       "10    0.56\n",
       "11    0.56\n",
       "12    0.56\n",
       "13    0.56\n",
       "14    0.56\n",
       "15    0.56\n",
       "16    0.56\n",
       "17    0.56\n",
       "18    0.56\n",
       "19    0.56\n",
       "20    0.56\n",
       "21    0.56\n",
       "22    0.56\n",
       "23    0.56\n",
       "24    0.56\n",
       "25    0.56\n",
       "26    0.56\n",
       "27    0.56\n",
       "28    0.56\n",
       "29    0.56\n",
       "30    0.56\n",
       "31    0.56\n",
       "32    0.56\n",
       "33    0.56\n",
       "34    0.56\n",
       "35    0.56\n",
       "36    0.56\n",
       "37    0.56\n",
       "38    0.56\n",
       "39    0.56\n",
       "40    0.56\n",
       "41    0.56\n",
       "42    0.56\n",
       "Name: support, dtype: float64"
      ]
     },
     "execution_count": 169,
     "metadata": {},
     "output_type": "execute_result"
    }
   ],
   "source": []
  },
  {
   "cell_type": "code",
   "execution_count": 170,
   "metadata": {},
   "outputs": [
    {
     "data": {
      "text/html": [
       "<div>\n",
       "<style scoped>\n",
       "    .dataframe tbody tr th:only-of-type {\n",
       "        vertical-align: middle;\n",
       "    }\n",
       "\n",
       "    .dataframe tbody tr th {\n",
       "        vertical-align: top;\n",
       "    }\n",
       "\n",
       "    .dataframe thead th {\n",
       "        text-align: right;\n",
       "    }\n",
       "</style>\n",
       "<table border=\"1\" class=\"dataframe\">\n",
       "  <thead>\n",
       "    <tr style=\"text-align: right;\">\n",
       "      <th></th>\n",
       "      <th>Income Group</th>\n",
       "      <th>Total</th>\n",
       "    </tr>\n",
       "  </thead>\n",
       "  <tbody>\n",
       "    <tr>\n",
       "      <th>0</th>\n",
       "      <td>Lower middle income (LM)</td>\n",
       "      <td>15</td>\n",
       "    </tr>\n",
       "    <tr>\n",
       "      <th>1</th>\n",
       "      <td>Upper middle income (UM)</td>\n",
       "      <td>81</td>\n",
       "    </tr>\n",
       "    <tr>\n",
       "      <th>2</th>\n",
       "      <td>Lower middle income (LM)</td>\n",
       "      <td>34</td>\n",
       "    </tr>\n",
       "    <tr>\n",
       "      <th>3</th>\n",
       "      <td>High income (H)</td>\n",
       "      <td>63</td>\n",
       "    </tr>\n",
       "    <tr>\n",
       "      <th>4</th>\n",
       "      <td>Low income (L)</td>\n",
       "      <td>3</td>\n",
       "    </tr>\n",
       "  </tbody>\n",
       "</table>\n",
       "</div>"
      ],
      "text/plain": [
       "               Income Group  Total\n",
       "0  Lower middle income (LM)     15\n",
       "1  Upper middle income (UM)     81\n",
       "2  Lower middle income (LM)     34\n",
       "3           High income (H)     63\n",
       "4            Low income (L)      3"
      ]
     },
     "execution_count": 170,
     "metadata": {},
     "output_type": "execute_result"
    }
   ],
   "source": [
    "# Task 2\n",
    "# Choosing data to perform clustering \n",
    "# We chose to do Total and Income Group\n",
    "# This could help us if there are any relationship between the Total (%) of students\n",
    "# with internet connection and the income group of that Region\n",
    "# We might be able to find if the income status of a Region gives any influence to \n",
    "# the Total (%) of students with internet.\n",
    "\n",
    "WS2_copy = WS.copy(deep=True)\n",
    "WS2_copy = WS2_copy[[\"Income Group\", \"Total\"]]\n",
    "WS2_copy.to_csv(\"./216396764-216426744-T2Org.csv\") # Before Preprocessing \n",
    "WS2_copy.head()\n"
   ]
  },
  {
   "cell_type": "code",
   "execution_count": 171,
   "metadata": {},
   "outputs": [
    {
     "data": {
      "text/html": [
       "<div>\n",
       "<style scoped>\n",
       "    .dataframe tbody tr th:only-of-type {\n",
       "        vertical-align: middle;\n",
       "    }\n",
       "\n",
       "    .dataframe tbody tr th {\n",
       "        vertical-align: top;\n",
       "    }\n",
       "\n",
       "    .dataframe thead th {\n",
       "        text-align: right;\n",
       "    }\n",
       "</style>\n",
       "<table border=\"1\" class=\"dataframe\">\n",
       "  <thead>\n",
       "    <tr style=\"text-align: right;\">\n",
       "      <th></th>\n",
       "      <th>Income Group</th>\n",
       "      <th>Total</th>\n",
       "    </tr>\n",
       "  </thead>\n",
       "  <tbody>\n",
       "    <tr>\n",
       "      <th>0</th>\n",
       "      <td>1</td>\n",
       "      <td>15</td>\n",
       "    </tr>\n",
       "    <tr>\n",
       "      <th>1</th>\n",
       "      <td>2</td>\n",
       "      <td>81</td>\n",
       "    </tr>\n",
       "    <tr>\n",
       "      <th>2</th>\n",
       "      <td>1</td>\n",
       "      <td>34</td>\n",
       "    </tr>\n",
       "    <tr>\n",
       "      <th>3</th>\n",
       "      <td>3</td>\n",
       "      <td>63</td>\n",
       "    </tr>\n",
       "    <tr>\n",
       "      <th>4</th>\n",
       "      <td>0</td>\n",
       "      <td>3</td>\n",
       "    </tr>\n",
       "  </tbody>\n",
       "</table>\n",
       "</div>"
      ],
      "text/plain": [
       "  Income Group  Total\n",
       "0            1     15\n",
       "1            2     81\n",
       "2            1     34\n",
       "3            3     63\n",
       "4            0      3"
      ]
     },
     "execution_count": 171,
     "metadata": {},
     "output_type": "execute_result"
    }
   ],
   "source": [
    "# After Preprocessing\n",
    "# Note that Income Group is a string value and cannot be processed as a vectored form\n",
    "# Since Income Group is Ordinal, we are able to allocate a number to the certain data\n",
    "# Low Income = 0, Lower middle income = 1, Upper middle income = 2, High income = 3.\n",
    "# First find all the unique values for income group\n",
    "WS2_copy.loc[WS[\"Income Group\"] == \"Low income (L)\", \"Income Group\"] = 0\n",
    "WS2_copy.loc[WS[\"Income Group\"] == \"Lower middle income (LM)\", \"Income Group\"] = 1\n",
    "WS2_copy.loc[WS[\"Income Group\"] == \"Upper middle income (UM)\", \"Income Group\"] = 2\n",
    "WS2_copy.loc[WS[\"Income Group\"] == \"High income (H)\", \"Income Group\"] = 3\n",
    "\n",
    "WS2_copy.head()\n"
   ]
  },
  {
   "cell_type": "code",
   "execution_count": 172,
   "metadata": {},
   "outputs": [],
   "source": [
    "# New data\n",
    "WS2_copy.to_csv(\"./216396764-216426744-T2Mod.csv\") # After Preprocessing \n"
   ]
  },
  {
   "cell_type": "code",
   "execution_count": 173,
   "metadata": {},
   "outputs": [],
   "source": [
    "from sklearn.cluster import KMeans # using the sklearn.cluster and import KMeans\n"
   ]
  },
  {
   "cell_type": "code",
   "execution_count": 174,
   "metadata": {},
   "outputs": [
    {
     "data": {
      "text/html": [
       "<div>\n",
       "<style scoped>\n",
       "    .dataframe tbody tr th:only-of-type {\n",
       "        vertical-align: middle;\n",
       "    }\n",
       "\n",
       "    .dataframe tbody tr th {\n",
       "        vertical-align: top;\n",
       "    }\n",
       "\n",
       "    .dataframe thead th {\n",
       "        text-align: right;\n",
       "    }\n",
       "</style>\n",
       "<table border=\"1\" class=\"dataframe\">\n",
       "  <thead>\n",
       "    <tr style=\"text-align: right;\">\n",
       "      <th></th>\n",
       "      <th>Income Group</th>\n",
       "      <th>Total</th>\n",
       "      <th>class</th>\n",
       "    </tr>\n",
       "  </thead>\n",
       "  <tbody>\n",
       "    <tr>\n",
       "      <th>0</th>\n",
       "      <td>1</td>\n",
       "      <td>15</td>\n",
       "      <td>0</td>\n",
       "    </tr>\n",
       "    <tr>\n",
       "      <th>1</th>\n",
       "      <td>2</td>\n",
       "      <td>81</td>\n",
       "      <td>1</td>\n",
       "    </tr>\n",
       "    <tr>\n",
       "      <th>2</th>\n",
       "      <td>1</td>\n",
       "      <td>34</td>\n",
       "      <td>2</td>\n",
       "    </tr>\n",
       "    <tr>\n",
       "      <th>3</th>\n",
       "      <td>3</td>\n",
       "      <td>63</td>\n",
       "      <td>1</td>\n",
       "    </tr>\n",
       "    <tr>\n",
       "      <th>4</th>\n",
       "      <td>0</td>\n",
       "      <td>3</td>\n",
       "      <td>0</td>\n",
       "    </tr>\n",
       "  </tbody>\n",
       "</table>\n",
       "</div>"
      ],
      "text/plain": [
       "  Income Group  Total  class\n",
       "0            1     15      0\n",
       "1            2     81      1\n",
       "2            1     34      2\n",
       "3            3     63      1\n",
       "4            0      3      0"
      ]
     },
     "execution_count": 174,
     "metadata": {},
     "output_type": "execute_result"
    }
   ],
   "source": [
    "kmeans = KMeans(n_clusters=3).fit(WS2_copy)\n",
    "id_clusters = kmeans.fit_predict(WS2_copy)\n",
    "WS2_copy[\"class\"] = id_clusters\n",
    "WS2_copy.head()"
   ]
  },
  {
   "cell_type": "code",
   "execution_count": 175,
   "metadata": {},
   "outputs": [
    {
     "data": {
      "text/plain": [
       "Text(0, 0.5, 'Total (%)')"
      ]
     },
     "execution_count": 175,
     "metadata": {},
     "output_type": "execute_result"
    },
    {
     "data": {
      "image/png": "[encoded data removed]",
      "text/plain": [
       "<Figure size 648x576 with 1 Axes>"
      ]
     },
     "metadata": {},
     "output_type": "display_data"
    }
   ],
   "source": [
    "figure(num=None, figsize=(9,8), facecolor='w', edgecolor='r')\n",
    "plt.scatter(WS2_copy['Income Group'], WS2_copy['Total'],c=WS2_copy['class'], cmap='rainbow')\n",
    "plt.xlabel(\"Income Group\")\n",
    "plt.ylabel(\"Total (%)\")\n"
   ]
  },
  {
   "cell_type": "code",
   "execution_count": 176,
   "metadata": {},
   "outputs": [
    {
     "name": "stdout",
     "output_type": "stream",
     "text": [
      "2649.467012987013\n"
     ]
    }
   ],
   "source": [
    "print(kmeans.inertia_) # Sum of Square error for k = 3"
   ]
  },
  {
   "cell_type": "code",
   "execution_count": 177,
   "metadata": {},
   "outputs": [
    {
     "data": {
      "text/html": [
       "<div>\n",
       "<style scoped>\n",
       "    .dataframe tbody tr th:only-of-type {\n",
       "        vertical-align: middle;\n",
       "    }\n",
       "\n",
       "    .dataframe tbody tr th {\n",
       "        vertical-align: top;\n",
       "    }\n",
       "\n",
       "    .dataframe thead th {\n",
       "        text-align: right;\n",
       "    }\n",
       "</style>\n",
       "<table border=\"1\" class=\"dataframe\">\n",
       "  <thead>\n",
       "    <tr style=\"text-align: right;\">\n",
       "      <th></th>\n",
       "      <th>Income Group</th>\n",
       "      <th>Total</th>\n",
       "      <th>class</th>\n",
       "    </tr>\n",
       "  </thead>\n",
       "  <tbody>\n",
       "    <tr>\n",
       "      <th>0</th>\n",
       "      <td>1</td>\n",
       "      <td>15</td>\n",
       "      <td>1</td>\n",
       "    </tr>\n",
       "    <tr>\n",
       "      <th>1</th>\n",
       "      <td>2</td>\n",
       "      <td>81</td>\n",
       "      <td>0</td>\n",
       "    </tr>\n",
       "    <tr>\n",
       "      <th>2</th>\n",
       "      <td>1</td>\n",
       "      <td>34</td>\n",
       "      <td>2</td>\n",
       "    </tr>\n",
       "    <tr>\n",
       "      <th>3</th>\n",
       "      <td>3</td>\n",
       "      <td>63</td>\n",
       "      <td>3</td>\n",
       "    </tr>\n",
       "    <tr>\n",
       "      <th>4</th>\n",
       "      <td>0</td>\n",
       "      <td>3</td>\n",
       "      <td>1</td>\n",
       "    </tr>\n",
       "  </tbody>\n",
       "</table>\n",
       "</div>"
      ],
      "text/plain": [
       "  Income Group  Total  class\n",
       "0            1     15      1\n",
       "1            2     81      0\n",
       "2            1     34      2\n",
       "3            3     63      3\n",
       "4            0      3      1"
      ]
     },
     "execution_count": 177,
     "metadata": {},
     "output_type": "execute_result"
    }
   ],
   "source": [
    "kmeans = KMeans(n_clusters=4).fit(WS2_copy)\n",
    "id_clusters = kmeans.fit_predict(WS2_copy)\n",
    "WS2_copy[\"class\"] = id_clusters\n",
    "WS2_copy.head()"
   ]
  },
  {
   "cell_type": "code",
   "execution_count": 178,
   "metadata": {},
   "outputs": [
    {
     "data": {
      "text/plain": [
       "Text(0, 0.5, 'Total (%)')"
      ]
     },
     "execution_count": 178,
     "metadata": {},
     "output_type": "execute_result"
    },
    {
     "data": {
      "image/png": "[encoded data removed]",
      "text/plain": [
       "<Figure size 648x576 with 1 Axes>"
      ]
     },
     "metadata": {},
     "output_type": "display_data"
    }
   ],
   "source": [
    "figure(num=None, figsize=(9,8), facecolor='w', edgecolor='r')\n",
    "plt.scatter(WS2_copy['Income Group'], WS2_copy['Total'],c=WS2_copy['class'], cmap='rainbow')\n",
    "plt.xlabel(\"Income Group\")\n",
    "plt.ylabel(\"Total (%)\")"
   ]
  },
  {
   "cell_type": "code",
   "execution_count": 179,
   "metadata": {},
   "outputs": [
    {
     "name": "stdout",
     "output_type": "stream",
     "text": [
      "1834.294393939394\n"
     ]
    }
   ],
   "source": [
    "print(kmeans.inertia_) # Sum of Square error for k = 4"
   ]
  },
  {
   "cell_type": "code",
   "execution_count": 180,
   "metadata": {},
   "outputs": [],
   "source": [
    "kmeans = KMeans(n_clusters=5).fit(WS2_copy)\n",
    "id_clusters = kmeans.fit_predict(WS2_copy)\n",
    "WS2_copy[\"class\"] = id_clusters\n",
    "WS2_copy.head()\n",
    "WS2_copy.to_csv(\"./216396764-216426744-T2Class.csv\")"
   ]
  },
  {
   "cell_type": "code",
   "execution_count": 181,
   "metadata": {},
   "outputs": [
    {
     "data": {
      "text/plain": [
       "Text(0, 0.5, 'Total (%)')"
      ]
     },
     "execution_count": 181,
     "metadata": {},
     "output_type": "execute_result"
    },
    {
     "data": {
      "image/png": "[encoded data removed]",
      "text/plain": [
       "<Figure size 648x576 with 1 Axes>"
      ]
     },
     "metadata": {},
     "output_type": "display_data"
    }
   ],
   "source": [
    "figure(num=None, figsize=(9,8), facecolor='w', edgecolor='r')\n",
    "plt.scatter(WS2_copy['Income Group'], WS2_copy['Total'],c=WS2_copy['class'], cmap='rainbow')\n",
    "plt.xlabel(\"Income Group\")\n",
    "plt.ylabel(\"Total (%)\")\n"
   ]
  },
  {
   "cell_type": "code",
   "execution_count": 182,
   "metadata": {},
   "outputs": [
    {
     "name": "stdout",
     "output_type": "stream",
     "text": [
      "1086.802777777778\n"
     ]
    }
   ],
   "source": [
    "print(kmeans.inertia_) # Sum of Square error for k = 5\n"
   ]
  },
  {
   "cell_type": "code",
   "execution_count": 183,
   "metadata": {},
   "outputs": [
    {
     "data": {
      "image/png": "[encoded data removed]",
      "text/plain": [
       "<Figure size 360x360 with 1 Axes>"
      ]
     },
     "metadata": {},
     "output_type": "display_data"
    }
   ],
   "source": [
    "figure(num=None, figsize=(5,5), facecolor='w', edgecolor='r')\n",
    "wcss = []\n",
    "for i in range(1,11): # calculating all the SSE for i = 1 - 11\n",
    "    kmeans = KMeans(n_clusters=i)\n",
    "    kmeans.fit(WS2_copy)\n",
    "    wcss.append(kmeans.inertia_)\n",
    "plt.plot(range(1,11), wcss)\n",
    "plt.xlabel(\"number of clusters\")\n",
    "plt.ylabel(\"cost\")\n",
    "plt.savefig(\"cost.png\")\n",
    "plt.show()\n"
   ]
  },
  {
   "cell_type": "code",
   "execution_count": 184,
   "metadata": {},
   "outputs": [
    {
     "data": {
      "text/html": [
       "<div>\n",
       "<style scoped>\n",
       "    .dataframe tbody tr th:only-of-type {\n",
       "        vertical-align: middle;\n",
       "    }\n",
       "\n",
       "    .dataframe tbody tr th {\n",
       "        vertical-align: top;\n",
       "    }\n",
       "\n",
       "    .dataframe thead th {\n",
       "        text-align: right;\n",
       "    }\n",
       "</style>\n",
       "<table border=\"1\" class=\"dataframe\">\n",
       "  <thead>\n",
       "    <tr style=\"text-align: right;\">\n",
       "      <th></th>\n",
       "      <th>Income Group</th>\n",
       "      <th>Total</th>\n",
       "      <th>class</th>\n",
       "    </tr>\n",
       "  </thead>\n",
       "  <tbody>\n",
       "    <tr>\n",
       "      <th>0</th>\n",
       "      <td>1</td>\n",
       "      <td>15</td>\n",
       "      <td>4</td>\n",
       "    </tr>\n",
       "    <tr>\n",
       "      <th>1</th>\n",
       "      <td>2</td>\n",
       "      <td>81</td>\n",
       "      <td>3</td>\n",
       "    </tr>\n",
       "    <tr>\n",
       "      <th>2</th>\n",
       "      <td>1</td>\n",
       "      <td>34</td>\n",
       "      <td>2</td>\n",
       "    </tr>\n",
       "    <tr>\n",
       "      <th>3</th>\n",
       "      <td>3</td>\n",
       "      <td>63</td>\n",
       "      <td>1</td>\n",
       "    </tr>\n",
       "    <tr>\n",
       "      <th>4</th>\n",
       "      <td>0</td>\n",
       "      <td>3</td>\n",
       "      <td>0</td>\n",
       "    </tr>\n",
       "  </tbody>\n",
       "</table>\n",
       "</div>"
      ],
      "text/plain": [
       "  Income Group  Total  class\n",
       "0            1     15      4\n",
       "1            2     81      3\n",
       "2            1     34      2\n",
       "3            3     63      1\n",
       "4            0      3      0"
      ]
     },
     "execution_count": 184,
     "metadata": {},
     "output_type": "execute_result"
    }
   ],
   "source": [
    "# Task 3\n",
    "# Create the Naive Bayes classifier. We import naive_bayes\n",
    "# First need to use 3 folds to separate the data from Task 2\n",
    "from sklearn.model_selection import KFold\n",
    "from sklearn.naive_bayes import GaussianNB\n",
    "WS2_copy.head()"
   ]
  },
  {
   "cell_type": "code",
   "execution_count": 185,
   "metadata": {},
   "outputs": [],
   "source": [
    "X = np.array(WS2_copy[[\"Income Group\", \"Total\"]])\n",
    "y = np.array(WS2_copy[[\"class\"]])\n",
    "# print(X)\n",
    "kf = KFold(n_splits= 3, shuffle=True, random_state=1)\n",
    "for train, test in kf.split(X):\n",
    "\tX_train, X_test = X[train], X[test]\n",
    "\ty_train, y_test = y[train], y[test]\n"
   ]
  },
  {
   "cell_type": "code",
   "execution_count": 186,
   "metadata": {},
   "outputs": [
    {
     "name": "stdout",
     "output_type": "stream",
     "text": [
      "train: [1 2], test: [0]\n",
      "train: [0 1], test: [2]\n",
      "train: [0 2], test: [1]\n"
     ]
    }
   ],
   "source": [
    "\n",
    "# scikit-learn k-fold cross-validation\n",
    "from numpy import array\n",
    "from sklearn.model_selection import KFold\n",
    "# data sample\n",
    "data = array([[0.1, 0.2], [0.3, 0.4], [0.5, 0.6]])\n",
    "# prepare cross validation\n",
    "kfold = KFold(n_splits= 3, shuffle=True, random_state=1)\n",
    "# enumerate splits\n",
    "for train, test in kfold.split(data):\n",
    "\tprint('train: %s, test: %s' % (train, test))"
   ]
  }
 ],
 "metadata": {
  "kernelspec": {
   "display_name": "Python 3.8.12 ('projectVenv')",
   "language": "python",
   "name": "python3"
  },
  "language_info": {
   "codemirror_mode": {
    "name": "ipython",
    "version": 3
   },
   "file_extension": ".py",
   "mimetype": "text/x-python",
   "name": "python",
   "nbconvert_exporter": "python",
   "pygments_lexer": "ipython3",
   "version": "3.8.13"
  },
  "orig_nbformat": 4,
  "vscode": {
   "interpreter": {
    "hash": "4edf734b6338d9b84150e8d7209c3463b842bb91115fbd67a2ca82c345f112ba"
   }
  }
 },
 "nbformat": 4,
 "nbformat_minor": 2
}
